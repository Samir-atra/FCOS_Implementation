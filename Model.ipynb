{
 "cells": [
  {
   "cell_type": "code",
   "execution_count": null,
   "metadata": {},
   "outputs": [],
   "source": [
    "# imports\n",
    "\n",
    "import tensorflow as tf\n",
    "import tensorflow_models as tfm\n",
    "import numpy as np\n",
    "\n"
   ]
  },
  {
   "cell_type": "code",
   "execution_count": 4,
   "metadata": {},
   "outputs": [
    {
     "name": "stderr",
     "output_type": "stream",
     "text": [
      "/home/samer/anaconda3/envs/tensorflow/lib/python3.9/pty.py:85: RuntimeWarning: os.fork() was called. os.fork() is incompatible with multithreaded code, and JAX is multithreaded, so this will likely lead to a deadlock.\n",
      "  pid, fd = os.forkpty()\n"
     ]
    },
    {
     "name": "stdout",
     "output_type": "stream",
     "text": [
      "--2024-09-03 01:43:37--  http://images.cocodataset.org/zips/train2014.zip\n",
      "Resolving images.cocodataset.org (images.cocodataset.org)... 16.182.39.33, 54.231.225.209, 3.5.28.204, ...\n",
      "Connecting to images.cocodataset.org (images.cocodataset.org)|16.182.39.33|:80... connected.\n",
      "HTTP request sent, awaiting response... 200 OK\n",
      "Length: 13510573713 (13G) [application/zip]\n",
      "Saving to: ‘train2014.zip’\n",
      "\n",
      "train2014.zip       100%[===================>]  12.58G  4.28MB/s    in 59m 42s \n",
      "\n",
      "2024-09-03 02:43:19 (3.60 MB/s) - ‘train2014.zip’ saved [13510573713/13510573713]\n",
      "\n",
      "--2024-09-03 02:43:19--  http://images.cocodataset.org/zips/val2014.zip\n",
      "Resolving images.cocodataset.org (images.cocodataset.org)... 52.217.166.153, 3.5.28.168, 3.5.25.173, ...\n",
      "Connecting to images.cocodataset.org (images.cocodataset.org)|52.217.166.153|:80... connected.\n",
      "HTTP request sent, awaiting response... 200 OK\n",
      "Length: 6645013297 (6.2G) [application/zip]\n",
      "Saving to: ‘val2014.zip’\n",
      "\n",
      "val2014.zip          22%[===>                ]   1.40G  3.78MB/s    eta 19m 28s"
     ]
    }
   ],
   "source": [
    "# download the dataset\n",
    "\n",
    "!wget http://images.cocodataset.org/zips/train2014.zip\n",
    "!wget http://images.cocodataset.org/zips/val2014.zip\n",
    "!wget http://images.cocodataset.org/annotations/annotations_trainval2014.zip\n",
    "!wget http://images.cocodataset.org/zips/test2014.zip\n",
    "!wget http://images.cocodataset.org/annotations/image_info_test2014.zip\n"
   ]
  },
  {
   "cell_type": "code",
   "execution_count": null,
   "metadata": {},
   "outputs": [],
   "source": [
    "tfm.vision.decoders.FPN(\n",
    "    input_specs: Mapping[str, tf.TensorShape],\n",
    "    min_level: int = 3,\n",
    "    max_level: int = 7,\n",
    "    num_filters: int = 256,\n",
    "    fusion_type: str = 'sum',\n",
    "    use_separable_conv: bool = False,\n",
    "    use_keras_layer: bool = False,\n",
    "    activation: str = 'relu',\n",
    "    use_sync_bn: bool = False,\n",
    "    norm_momentum: float = 0.99,\n",
    "    norm_epsilon: float = 0.001,\n",
    "    kernel_initializer: str = 'VarianceScaling',\n",
    "    kernel_regularizer: Optional[tf.keras.regularizers.Regularizer] = None,\n",
    "    bias_regularizer: Optional[tf.keras.regularizers.Regularizer] = None,\n",
    "    **kwargs\n",
    ")"
   ]
  },
  {
   "cell_type": "code",
   "execution_count": null,
   "metadata": {},
   "outputs": [],
   "source": []
  }
 ],
 "metadata": {
  "kernelspec": {
   "display_name": "tensorflow",
   "language": "python",
   "name": "python3"
  },
  "language_info": {
   "codemirror_mode": {
    "name": "ipython",
    "version": 3
   },
   "file_extension": ".py",
   "mimetype": "text/x-python",
   "name": "python",
   "nbconvert_exporter": "python",
   "pygments_lexer": "ipython3",
   "version": "3.9.19"
  }
 },
 "nbformat": 4,
 "nbformat_minor": 2
}
