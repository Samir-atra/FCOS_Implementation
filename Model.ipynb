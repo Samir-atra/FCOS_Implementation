{
 "cells": [
  {
   "cell_type": "code",
   "execution_count": 1,
   "metadata": {},
   "outputs": [
    {
     "name": "stderr",
     "output_type": "stream",
     "text": [
      "2024-09-12 19:57:33.882835: I tensorflow/core/util/port.cc:153] oneDNN custom operations are on. You may see slightly different numerical results due to floating-point round-off errors from different computation orders. To turn them off, set the environment variable `TF_ENABLE_ONEDNN_OPTS=0`.\n",
      "2024-09-12 19:57:33.983444: E external/local_xla/xla/stream_executor/cuda/cuda_fft.cc:477] Unable to register cuFFT factory: Attempting to register factory for plugin cuFFT when one has already been registered\n",
      "WARNING: All log messages before absl::InitializeLog() is called are written to STDERR\n",
      "E0000 00:00:1726163854.024555    6960 cuda_dnn.cc:8322] Unable to register cuDNN factory: Attempting to register factory for plugin cuDNN when one has already been registered\n",
      "E0000 00:00:1726163854.036379    6960 cuda_blas.cc:1418] Unable to register cuBLAS factory: Attempting to register factory for plugin cuBLAS when one has already been registered\n",
      "2024-09-12 19:57:34.130326: I tensorflow/core/platform/cpu_feature_guard.cc:210] This TensorFlow binary is optimized to use available CPU instructions in performance-critical operations.\n",
      "To enable the following instructions: AVX2 AVX_VNNI FMA, in other operations, rebuild TensorFlow with the appropriate compiler flags.\n"
     ]
    }
   ],
   "source": [
    "# imports\n",
    "\n",
    "# !pip install tf-models-official\n",
    "import tqdm\n",
    "import tensorflow as tf\n",
    "# import tensorflow_models as tfm\n",
    "import numpy as np\n",
    "import json\n",
    "import os\n"
   ]
  },
  {
   "cell_type": "code",
   "execution_count": null,
   "metadata": {},
   "outputs": [],
   "source": [
    "# download the dataset\n",
    "\n",
    "# !wget http://images.cocodataset.org/zips/train2014.zip\n",
    "# !wget http://images.cocodataset.org/zips/val2014.zip\n",
    "# !wget http://images.cocodataset.org/annotations/annotations_trainval2014.zip\n",
    "# !wget http://images.cocodataset.org/zips/test2014.zip\n",
    "# !wget http://images.cocodataset.org/annotations/image_info_test2014.zip\n"
   ]
  },
  {
   "cell_type": "code",
   "execution_count": null,
   "metadata": {},
   "outputs": [],
   "source": [
    "# unzip the dataset files\n",
    "\n",
    "# !pip install unzip\n",
    "# !unzip /home/samer/Desktop/Beedoo/FCOS/FCOS_Implementation/COCO2014/val2014.zip\n"
   ]
  },
  {
   "cell_type": "code",
   "execution_count": 2,
   "metadata": {},
   "outputs": [],
   "source": [
    "# dataset paths\n",
    "\n",
    "train_imgs_path = \"/home/samer/Desktop/Beedoo/FCOS/FCOS_Implementation/COCO2014/train2014/\"\n",
    "val_imgs_path = \"/home/samer/Desktop/Beedoo/FCOS/FCOS_Implementation/COCO2014/val2014/\"\n",
    "test_imgs_path = \"/home/samer/Desktop/Beedoo/FCOS/FCOS_Implementation/COCO2014/test2014/\"\n",
    "annotations = \"/home/samer/Desktop/Beedoo/FCOS/FCOS_Implementation/COCO2014/annotations/\""
   ]
  },
  {
   "cell_type": "code",
   "execution_count": 3,
   "metadata": {},
   "outputs": [
    {
     "name": "stdout",
     "output_type": "stream",
     "text": [
      "dict_keys(['info', 'images', 'licenses', 'annotations', 'categories'])\n"
     ]
    }
   ],
   "source": [
    "# loading and procseing the dataset\n",
    "\n",
    "annotation_path = os.path.join(annotations, \"instances_val2014.json\")\n",
    "with open(annotation_path, \"r\") as f:\n",
    "    json_obj = json.load(f)\n",
    "    print(json_obj.keys())"
   ]
  },
  {
   "cell_type": "code",
   "execution_count": 2,
   "metadata": {},
   "outputs": [
    {
     "ename": "SyntaxError",
     "evalue": "invalid syntax (2388210152.py, line 2)",
     "output_type": "error",
     "traceback": [
      "\u001b[0;36m  Cell \u001b[0;32mIn[2], line 2\u001b[0;36m\u001b[0m\n\u001b[0;31m    input_specs: Mapping[str, tf.TensorShape],\u001b[0m\n\u001b[0m               ^\u001b[0m\n\u001b[0;31mSyntaxError\u001b[0m\u001b[0;31m:\u001b[0m invalid syntax\n"
     ]
    }
   ],
   "source": [
    "tfm.vision.decoders.FPN(\n",
    "    input_specs: Mapping[str, tf.TensorShape],\n",
    "    min_level: int = 3,\n",
    "    max_level: int = 7,\n",
    "    num_filters: int = 256,\n",
    "    fusion_type: str = 'sum',\n",
    "    use_separable_conv: bool = False,\n",
    "    use_keras_layer: bool = False,\n",
    "    activation: str = 'relu',\n",
    "    use_sync_bn: bool = False,\n",
    "    norm_momentum: float = 0.99,\n",
    "    norm_epsilon: float = 0.001,\n",
    "    kernel_initializer: str = 'VarianceScaling',\n",
    "    kernel_regularizer: Optional[tf.keras.regularizers.Regularizer] = None,\n",
    "    bias_regularizer: Optional[tf.keras.regularizers.Regularizer] = None,\n",
    "    **kwargs\n",
    ")"
   ]
  },
  {
   "cell_type": "code",
   "execution_count": null,
   "metadata": {},
   "outputs": [],
   "source": []
  }
 ],
 "metadata": {
  "kernelspec": {
   "display_name": "tensorflow",
   "language": "python",
   "name": "python3"
  },
  "language_info": {
   "codemirror_mode": {
    "name": "ipython",
    "version": 3
   },
   "file_extension": ".py",
   "mimetype": "text/x-python",
   "name": "python",
   "nbconvert_exporter": "python",
   "pygments_lexer": "ipython3",
   "version": "3.9.19"
  }
 },
 "nbformat": 4,
 "nbformat_minor": 2
}
