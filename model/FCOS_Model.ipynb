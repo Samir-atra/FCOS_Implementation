{
  "cells": [
    {
      "cell_type": "markdown",
      "metadata": {
        "id": "view-in-github",
        "colab_type": "text"
      },
      "source": [
        "<a href=\"https://colab.research.google.com/github/Samir-atra/FCOS_Implementation/blob/main/model/FCOS_Model.ipynb\" target=\"_parent\"><img src=\"https://colab.research.google.com/assets/colab-badge.svg\" alt=\"Open In Colab\"/></a>"
      ]
    },
    {
      "cell_type": "code",
      "execution_count": 1,
      "metadata": {
        "id": "is_N0C5RFKs5",
        "outputId": "ad807ce4-be83-4afe-85f1-4b1ebb966c91",
        "colab": {
          "base_uri": "https://localhost:8080/"
        }
      },
      "outputs": [
        {
          "output_type": "stream",
          "name": "stdout",
          "text": [
            "Requirement already satisfied: tf-models-official in /usr/local/lib/python3.10/dist-packages (2.18.0)\n",
            "Requirement already satisfied: Cython in /usr/local/lib/python3.10/dist-packages (from tf-models-official) (3.0.11)\n",
            "Requirement already satisfied: Pillow in /usr/local/lib/python3.10/dist-packages (from tf-models-official) (10.4.0)\n",
            "Requirement already satisfied: ai-edge-litert>=1.0.1 in /usr/local/lib/python3.10/dist-packages (from tf-models-official) (1.0.1)\n",
            "Requirement already satisfied: gin-config in /usr/local/lib/python3.10/dist-packages (from tf-models-official) (0.5.0)\n",
            "Requirement already satisfied: google-api-python-client>=1.6.7 in /usr/local/lib/python3.10/dist-packages (from tf-models-official) (2.137.0)\n",
            "Requirement already satisfied: immutabledict in /usr/local/lib/python3.10/dist-packages (from tf-models-official) (4.2.0)\n",
            "Requirement already satisfied: kaggle>=1.3.9 in /usr/local/lib/python3.10/dist-packages (from tf-models-official) (1.6.17)\n",
            "Requirement already satisfied: matplotlib in /usr/local/lib/python3.10/dist-packages (from tf-models-official) (3.8.0)\n",
            "Requirement already satisfied: numpy>=1.20 in /usr/local/lib/python3.10/dist-packages (from tf-models-official) (1.26.4)\n",
            "Requirement already satisfied: oauth2client in /usr/local/lib/python3.10/dist-packages (from tf-models-official) (4.1.3)\n",
            "Requirement already satisfied: opencv-python-headless in /usr/local/lib/python3.10/dist-packages (from tf-models-official) (4.10.0.84)\n",
            "Requirement already satisfied: pandas>=0.22.0 in /usr/local/lib/python3.10/dist-packages (from tf-models-official) (2.2.2)\n",
            "Requirement already satisfied: psutil>=5.4.3 in /usr/local/lib/python3.10/dist-packages (from tf-models-official) (5.9.5)\n",
            "Requirement already satisfied: py-cpuinfo>=3.3.0 in /usr/local/lib/python3.10/dist-packages (from tf-models-official) (9.0.0)\n",
            "Requirement already satisfied: pycocotools in /usr/local/lib/python3.10/dist-packages (from tf-models-official) (2.0.8)\n",
            "Requirement already satisfied: pyyaml>=6.0.0 in /usr/local/lib/python3.10/dist-packages (from tf-models-official) (6.0.2)\n",
            "Requirement already satisfied: sacrebleu in /usr/local/lib/python3.10/dist-packages (from tf-models-official) (2.4.3)\n",
            "Requirement already satisfied: scipy>=0.19.1 in /usr/local/lib/python3.10/dist-packages (from tf-models-official) (1.13.1)\n",
            "Requirement already satisfied: sentencepiece in /usr/local/lib/python3.10/dist-packages (from tf-models-official) (0.2.0)\n",
            "Requirement already satisfied: seqeval in /usr/local/lib/python3.10/dist-packages (from tf-models-official) (1.2.2)\n",
            "Requirement already satisfied: six in /usr/local/lib/python3.10/dist-packages (from tf-models-official) (1.16.0)\n",
            "Requirement already satisfied: tensorflow-datasets in /usr/local/lib/python3.10/dist-packages (from tf-models-official) (4.9.6)\n",
            "Requirement already satisfied: tensorflow-hub>=0.6.0 in /usr/local/lib/python3.10/dist-packages (from tf-models-official) (0.16.1)\n",
            "Requirement already satisfied: tensorflow-model-optimization>=0.4.1 in /usr/local/lib/python3.10/dist-packages (from tf-models-official) (0.8.0)\n",
            "Requirement already satisfied: tensorflow-text~=2.18.0 in /usr/local/lib/python3.10/dist-packages (from tf-models-official) (2.18.0)\n",
            "Requirement already satisfied: tensorflow~=2.18.0 in /usr/local/lib/python3.10/dist-packages (from tf-models-official) (2.18.0)\n",
            "Requirement already satisfied: tf-keras>=2.16.0 in /usr/local/lib/python3.10/dist-packages (from tf-models-official) (2.18.0)\n",
            "Requirement already satisfied: tf-slim>=1.1.0 in /usr/local/lib/python3.10/dist-packages (from tf-models-official) (1.1.0)\n",
            "Requirement already satisfied: httplib2<1.dev0,>=0.19.0 in /usr/local/lib/python3.10/dist-packages (from google-api-python-client>=1.6.7->tf-models-official) (0.22.0)\n",
            "Requirement already satisfied: google-auth!=2.24.0,!=2.25.0,<3.0.0.dev0,>=1.32.0 in /usr/local/lib/python3.10/dist-packages (from google-api-python-client>=1.6.7->tf-models-official) (2.27.0)\n",
            "Requirement already satisfied: google-auth-httplib2<1.0.0,>=0.2.0 in /usr/local/lib/python3.10/dist-packages (from google-api-python-client>=1.6.7->tf-models-official) (0.2.0)\n",
            "Requirement already satisfied: google-api-core!=2.0.*,!=2.1.*,!=2.2.*,!=2.3.0,<3.0.0.dev0,>=1.31.5 in /usr/local/lib/python3.10/dist-packages (from google-api-python-client>=1.6.7->tf-models-official) (2.19.2)\n",
            "Requirement already satisfied: uritemplate<5,>=3.0.1 in /usr/local/lib/python3.10/dist-packages (from google-api-python-client>=1.6.7->tf-models-official) (4.1.1)\n",
            "Requirement already satisfied: certifi>=2023.7.22 in /usr/local/lib/python3.10/dist-packages (from kaggle>=1.3.9->tf-models-official) (2024.8.30)\n",
            "Requirement already satisfied: python-dateutil in /usr/local/lib/python3.10/dist-packages (from kaggle>=1.3.9->tf-models-official) (2.8.2)\n",
            "Requirement already satisfied: requests in /usr/local/lib/python3.10/dist-packages (from kaggle>=1.3.9->tf-models-official) (2.32.3)\n",
            "Requirement already satisfied: tqdm in /usr/local/lib/python3.10/dist-packages (from kaggle>=1.3.9->tf-models-official) (4.66.6)\n",
            "Requirement already satisfied: python-slugify in /usr/local/lib/python3.10/dist-packages (from kaggle>=1.3.9->tf-models-official) (8.0.4)\n",
            "Requirement already satisfied: urllib3 in /usr/local/lib/python3.10/dist-packages (from kaggle>=1.3.9->tf-models-official) (2.2.3)\n",
            "Requirement already satisfied: bleach in /usr/local/lib/python3.10/dist-packages (from kaggle>=1.3.9->tf-models-official) (6.2.0)\n",
            "Requirement already satisfied: pytz>=2020.1 in /usr/local/lib/python3.10/dist-packages (from pandas>=0.22.0->tf-models-official) (2024.2)\n",
            "Requirement already satisfied: tzdata>=2022.7 in /usr/local/lib/python3.10/dist-packages (from pandas>=0.22.0->tf-models-official) (2024.2)\n",
            "Requirement already satisfied: absl-py>=1.0.0 in /usr/local/lib/python3.10/dist-packages (from tensorflow~=2.18.0->tf-models-official) (1.4.0)\n",
            "Requirement already satisfied: astunparse>=1.6.0 in /usr/local/lib/python3.10/dist-packages (from tensorflow~=2.18.0->tf-models-official) (1.6.3)\n",
            "Requirement already satisfied: flatbuffers>=24.3.25 in /usr/local/lib/python3.10/dist-packages (from tensorflow~=2.18.0->tf-models-official) (24.3.25)\n",
            "Requirement already satisfied: gast!=0.5.0,!=0.5.1,!=0.5.2,>=0.2.1 in /usr/local/lib/python3.10/dist-packages (from tensorflow~=2.18.0->tf-models-official) (0.6.0)\n",
            "Requirement already satisfied: google-pasta>=0.1.1 in /usr/local/lib/python3.10/dist-packages (from tensorflow~=2.18.0->tf-models-official) (0.2.0)\n",
            "Requirement already satisfied: libclang>=13.0.0 in /usr/local/lib/python3.10/dist-packages (from tensorflow~=2.18.0->tf-models-official) (18.1.1)\n",
            "Requirement already satisfied: opt-einsum>=2.3.2 in /usr/local/lib/python3.10/dist-packages (from tensorflow~=2.18.0->tf-models-official) (3.4.0)\n",
            "Requirement already satisfied: packaging in /usr/local/lib/python3.10/dist-packages (from tensorflow~=2.18.0->tf-models-official) (24.1)\n",
            "Requirement already satisfied: protobuf!=4.21.0,!=4.21.1,!=4.21.2,!=4.21.3,!=4.21.4,!=4.21.5,<6.0.0dev,>=3.20.3 in /usr/local/lib/python3.10/dist-packages (from tensorflow~=2.18.0->tf-models-official) (3.20.3)\n",
            "Requirement already satisfied: setuptools in /usr/local/lib/python3.10/dist-packages (from tensorflow~=2.18.0->tf-models-official) (75.1.0)\n",
            "Requirement already satisfied: termcolor>=1.1.0 in /usr/local/lib/python3.10/dist-packages (from tensorflow~=2.18.0->tf-models-official) (2.5.0)\n",
            "Requirement already satisfied: typing-extensions>=3.6.6 in /usr/local/lib/python3.10/dist-packages (from tensorflow~=2.18.0->tf-models-official) (4.12.2)\n",
            "Requirement already satisfied: wrapt>=1.11.0 in /usr/local/lib/python3.10/dist-packages (from tensorflow~=2.18.0->tf-models-official) (1.16.0)\n",
            "Requirement already satisfied: grpcio<2.0,>=1.24.3 in /usr/local/lib/python3.10/dist-packages (from tensorflow~=2.18.0->tf-models-official) (1.64.1)\n",
            "Requirement already satisfied: tensorboard<2.19,>=2.18 in /usr/local/lib/python3.10/dist-packages (from tensorflow~=2.18.0->tf-models-official) (2.18.0)\n",
            "Requirement already satisfied: keras>=3.5.0 in /usr/local/lib/python3.10/dist-packages (from tensorflow~=2.18.0->tf-models-official) (3.6.0)\n",
            "Requirement already satisfied: h5py>=3.11.0 in /usr/local/lib/python3.10/dist-packages (from tensorflow~=2.18.0->tf-models-official) (3.12.1)\n",
            "Requirement already satisfied: ml-dtypes<0.5.0,>=0.4.0 in /usr/local/lib/python3.10/dist-packages (from tensorflow~=2.18.0->tf-models-official) (0.4.1)\n",
            "Requirement already satisfied: tensorflow-io-gcs-filesystem>=0.23.1 in /usr/local/lib/python3.10/dist-packages (from tensorflow~=2.18.0->tf-models-official) (0.37.1)\n",
            "Requirement already satisfied: dm-tree~=0.1.1 in /usr/local/lib/python3.10/dist-packages (from tensorflow-model-optimization>=0.4.1->tf-models-official) (0.1.8)\n",
            "Requirement already satisfied: contourpy>=1.0.1 in /usr/local/lib/python3.10/dist-packages (from matplotlib->tf-models-official) (1.3.0)\n",
            "Requirement already satisfied: cycler>=0.10 in /usr/local/lib/python3.10/dist-packages (from matplotlib->tf-models-official) (0.12.1)\n",
            "Requirement already satisfied: fonttools>=4.22.0 in /usr/local/lib/python3.10/dist-packages (from matplotlib->tf-models-official) (4.54.1)\n",
            "Requirement already satisfied: kiwisolver>=1.0.1 in /usr/local/lib/python3.10/dist-packages (from matplotlib->tf-models-official) (1.4.7)\n",
            "Requirement already satisfied: pyparsing>=2.3.1 in /usr/local/lib/python3.10/dist-packages (from matplotlib->tf-models-official) (3.2.0)\n",
            "Requirement already satisfied: pyasn1>=0.1.7 in /usr/local/lib/python3.10/dist-packages (from oauth2client->tf-models-official) (0.6.1)\n",
            "Requirement already satisfied: pyasn1-modules>=0.0.5 in /usr/local/lib/python3.10/dist-packages (from oauth2client->tf-models-official) (0.4.1)\n",
            "Requirement already satisfied: rsa>=3.1.4 in /usr/local/lib/python3.10/dist-packages (from oauth2client->tf-models-official) (4.9)\n",
            "Requirement already satisfied: portalocker in /usr/local/lib/python3.10/dist-packages (from sacrebleu->tf-models-official) (2.10.1)\n",
            "Requirement already satisfied: regex in /usr/local/lib/python3.10/dist-packages (from sacrebleu->tf-models-official) (2024.9.11)\n",
            "Requirement already satisfied: tabulate>=0.8.9 in /usr/local/lib/python3.10/dist-packages (from sacrebleu->tf-models-official) (0.9.0)\n",
            "Requirement already satisfied: colorama in /usr/local/lib/python3.10/dist-packages (from sacrebleu->tf-models-official) (0.4.6)\n",
            "Requirement already satisfied: lxml in /usr/local/lib/python3.10/dist-packages (from sacrebleu->tf-models-official) (5.3.0)\n",
            "Requirement already satisfied: scikit-learn>=0.21.3 in /usr/local/lib/python3.10/dist-packages (from seqeval->tf-models-official) (1.5.2)\n",
            "Requirement already satisfied: click in /usr/local/lib/python3.10/dist-packages (from tensorflow-datasets->tf-models-official) (8.1.7)\n",
            "Requirement already satisfied: promise in /usr/local/lib/python3.10/dist-packages (from tensorflow-datasets->tf-models-official) (2.3)\n",
            "Requirement already satisfied: pyarrow in /usr/local/lib/python3.10/dist-packages (from tensorflow-datasets->tf-models-official) (17.0.0)\n",
            "Requirement already satisfied: simple-parsing in /usr/local/lib/python3.10/dist-packages (from tensorflow-datasets->tf-models-official) (0.1.6)\n",
            "Requirement already satisfied: tensorflow-metadata in /usr/local/lib/python3.10/dist-packages (from tensorflow-datasets->tf-models-official) (1.16.1)\n",
            "Requirement already satisfied: toml in /usr/local/lib/python3.10/dist-packages (from tensorflow-datasets->tf-models-official) (0.10.2)\n",
            "Requirement already satisfied: array-record>=0.5.0 in /usr/local/lib/python3.10/dist-packages (from tensorflow-datasets->tf-models-official) (0.5.1)\n",
            "Requirement already satisfied: etils>=1.6.0 in /usr/local/lib/python3.10/dist-packages (from etils[enp,epath,epy,etree]>=1.6.0; python_version < \"3.11\"->tensorflow-datasets->tf-models-official) (1.10.0)\n",
            "Requirement already satisfied: wheel<1.0,>=0.23.0 in /usr/local/lib/python3.10/dist-packages (from astunparse>=1.6.0->tensorflow~=2.18.0->tf-models-official) (0.44.0)\n",
            "Requirement already satisfied: fsspec in /usr/local/lib/python3.10/dist-packages (from etils[enp,epath,epy,etree]>=1.6.0; python_version < \"3.11\"->tensorflow-datasets->tf-models-official) (2024.10.0)\n",
            "Requirement already satisfied: importlib_resources in /usr/local/lib/python3.10/dist-packages (from etils[enp,epath,epy,etree]>=1.6.0; python_version < \"3.11\"->tensorflow-datasets->tf-models-official) (6.4.5)\n",
            "Requirement already satisfied: zipp in /usr/local/lib/python3.10/dist-packages (from etils[enp,epath,epy,etree]>=1.6.0; python_version < \"3.11\"->tensorflow-datasets->tf-models-official) (3.20.2)\n",
            "Requirement already satisfied: googleapis-common-protos<2.0.dev0,>=1.56.2 in /usr/local/lib/python3.10/dist-packages (from google-api-core!=2.0.*,!=2.1.*,!=2.2.*,!=2.3.0,<3.0.0.dev0,>=1.31.5->google-api-python-client>=1.6.7->tf-models-official) (1.65.0)\n",
            "Requirement already satisfied: proto-plus<2.0.0dev,>=1.22.3 in /usr/local/lib/python3.10/dist-packages (from google-api-core!=2.0.*,!=2.1.*,!=2.2.*,!=2.3.0,<3.0.0.dev0,>=1.31.5->google-api-python-client>=1.6.7->tf-models-official) (1.25.0)\n",
            "Requirement already satisfied: cachetools<6.0,>=2.0.0 in /usr/local/lib/python3.10/dist-packages (from google-auth!=2.24.0,!=2.25.0,<3.0.0.dev0,>=1.32.0->google-api-python-client>=1.6.7->tf-models-official) (5.5.0)\n",
            "Requirement already satisfied: rich in /usr/local/lib/python3.10/dist-packages (from keras>=3.5.0->tensorflow~=2.18.0->tf-models-official) (13.9.3)\n",
            "Requirement already satisfied: namex in /usr/local/lib/python3.10/dist-packages (from keras>=3.5.0->tensorflow~=2.18.0->tf-models-official) (0.0.8)\n",
            "Requirement already satisfied: optree in /usr/local/lib/python3.10/dist-packages (from keras>=3.5.0->tensorflow~=2.18.0->tf-models-official) (0.13.0)\n",
            "Requirement already satisfied: charset-normalizer<4,>=2 in /usr/local/lib/python3.10/dist-packages (from requests->kaggle>=1.3.9->tf-models-official) (3.4.0)\n",
            "Requirement already satisfied: idna<4,>=2.5 in /usr/local/lib/python3.10/dist-packages (from requests->kaggle>=1.3.9->tf-models-official) (3.10)\n",
            "Requirement already satisfied: joblib>=1.2.0 in /usr/local/lib/python3.10/dist-packages (from scikit-learn>=0.21.3->seqeval->tf-models-official) (1.4.2)\n",
            "Requirement already satisfied: threadpoolctl>=3.1.0 in /usr/local/lib/python3.10/dist-packages (from scikit-learn>=0.21.3->seqeval->tf-models-official) (3.5.0)\n",
            "Requirement already satisfied: markdown>=2.6.8 in /usr/local/lib/python3.10/dist-packages (from tensorboard<2.19,>=2.18->tensorflow~=2.18.0->tf-models-official) (3.7)\n",
            "Requirement already satisfied: tensorboard-data-server<0.8.0,>=0.7.0 in /usr/local/lib/python3.10/dist-packages (from tensorboard<2.19,>=2.18->tensorflow~=2.18.0->tf-models-official) (0.7.2)\n",
            "Requirement already satisfied: werkzeug>=1.0.1 in /usr/local/lib/python3.10/dist-packages (from tensorboard<2.19,>=2.18->tensorflow~=2.18.0->tf-models-official) (3.0.6)\n",
            "Requirement already satisfied: webencodings in /usr/local/lib/python3.10/dist-packages (from bleach->kaggle>=1.3.9->tf-models-official) (0.5.1)\n",
            "Requirement already satisfied: text-unidecode>=1.3 in /usr/local/lib/python3.10/dist-packages (from python-slugify->kaggle>=1.3.9->tf-models-official) (1.3)\n",
            "Requirement already satisfied: docstring-parser<1.0,>=0.15 in /usr/local/lib/python3.10/dist-packages (from simple-parsing->tensorflow-datasets->tf-models-official) (0.16)\n",
            "Requirement already satisfied: MarkupSafe>=2.1.1 in /usr/local/lib/python3.10/dist-packages (from werkzeug>=1.0.1->tensorboard<2.19,>=2.18->tensorflow~=2.18.0->tf-models-official) (3.0.2)\n",
            "Requirement already satisfied: markdown-it-py>=2.2.0 in /usr/local/lib/python3.10/dist-packages (from rich->keras>=3.5.0->tensorflow~=2.18.0->tf-models-official) (3.0.0)\n",
            "Requirement already satisfied: pygments<3.0.0,>=2.13.0 in /usr/local/lib/python3.10/dist-packages (from rich->keras>=3.5.0->tensorflow~=2.18.0->tf-models-official) (2.18.0)\n",
            "Requirement already satisfied: mdurl~=0.1 in /usr/local/lib/python3.10/dist-packages (from markdown-it-py>=2.2.0->rich->keras>=3.5.0->tensorflow~=2.18.0->tf-models-official) (0.1.2)\n"
          ]
        }
      ],
      "source": [
        "# imports\n",
        "# !pip3 install -U pip\n",
        "# !pip3 install -U six numpy wheel packaging\n",
        "# !pip3 install -U keras_preprocessing --no-deps\n",
        "# !git clone https://github.com/tensorflow/tensorflow.git\n",
        "# !cd tensorflow\n",
        "# !pip install opencv-python\n",
        "!pip install tf-models-official\n",
        "# import tqdm\n",
        "import tensorflow as tf\n",
        "# import tensorflow_datasets as tfds\n",
        "import tensorflow_models as tfm\n",
        "import numpy as np\n",
        "import json\n",
        "import os\n",
        "import cv2\n",
        "import re\n",
        "from operator import itemgetter\n",
        "from Loss import IOULoss"
      ]
    },
    {
      "cell_type": "code",
      "execution_count": null,
      "metadata": {
        "colab": {
          "base_uri": "https://localhost:8080/"
        },
        "id": "FMKgsJTSFKs6",
        "outputId": "c5219fa7-b7d5-4dde-863e-dc1441e5983e"
      },
      "outputs": [
        {
          "name": "stdout",
          "output_type": "stream",
          "text": [
            "--2024-10-11 15:01:42--  http://images.cocodataset.org/zips/train2014.zip\n",
            "Resolving images.cocodataset.org (images.cocodataset.org)... 16.182.70.129, 54.231.169.161, 54.231.140.185, ...\n",
            "Connecting to images.cocodataset.org (images.cocodataset.org)|16.182.70.129|:80... connected.\n",
            "HTTP request sent, awaiting response... 200 OK\n",
            "Length: 13510573713 (13G) [application/zip]\n",
            "Saving to: ‘train2014.zip’\n",
            "\n",
            "train2014.zip       100%[===================>]  12.58G  45.8MB/s    in 4m 23s  \n",
            "\n",
            "2024-10-11 15:06:05 (49.0 MB/s) - ‘train2014.zip’ saved [13510573713/13510573713]\n",
            "\n"
          ]
        }
      ],
      "source": [
        "# download the dataset\n",
        "\n",
        "# !wget http://images.cocodataset.org/zips/train2014.zip\n",
        "# !wget http://images.cocodataset.org/zips/val2014.zip\n",
        "# !wget http://images.cocodataset.org/annotations/annotations_trainval2014.zip\n",
        "# !wget http://images.cocodataset.org/zips/test2014.zip\n",
        "# !wget http://images.cocodataset.org/annotations/image_info_test2014.zip\n"
      ]
    },
    {
      "cell_type": "code",
      "source": [
        "from google.colab import drive\n",
        "drive.mount('/content/drive')"
      ],
      "metadata": {
        "id": "8ZocsC7SUEG1",
        "outputId": "79d6fd5d-ca9b-409d-eef2-3db6271c9ef9",
        "colab": {
          "base_uri": "https://localhost:8080/"
        }
      },
      "execution_count": 2,
      "outputs": [
        {
          "output_type": "stream",
          "name": "stdout",
          "text": [
            "Drive already mounted at /content/drive; to attempt to forcibly remount, call drive.mount(\"/content/drive\", force_remount=True).\n"
          ]
        }
      ]
    },
    {
      "cell_type": "code",
      "execution_count": null,
      "metadata": {
        "id": "2vMFUP6UFKs6"
      },
      "outputs": [],
      "source": [
        "# unzip the dataset files\n",
        "\n",
        "# !pip install unzip\n",
        "# !unzip \"/content/drive/MyDrive/3rd ABAW Annotations.zip\" -d /content/\n"
      ]
    },
    {
      "cell_type": "code",
      "execution_count": 3,
      "metadata": {
        "id": "ZINKK2KsFKs6"
      },
      "outputs": [],
      "source": [
        "# dataset paths\n",
        "\n",
        "# for colab\n",
        "train_imgs_path = \"/content/drive/MyDrive/COCO/train2014/\"\n",
        "annotations = \"/content/drive/MyDrive/COCO/annotations/\"\n",
        "\n",
        "\n",
        "#for library\n",
        "# train_imgs_path = \"C:/Users/1845718/Documents/FCOS_Implementation/train2014/train2014/\"\n",
        "# val_imgs_path = \"C:/Users/1845718/Documents/FCOS_Implementation/val2014/val2014/\"\n",
        "# test_imgs_path = \"C:/Users/1845718/Documents/FCOS_Implementation/test2014/test2014/\"\n",
        "# annotations = \"C:/Users/1845718/Documents/FCOS_Implementation/annotations_trainval2014/annotations/\"\n",
        "\n",
        "# for laptop\n",
        "# train_imgs_path = \"/home/samer/Desktop/Beedoo/FCOS/FCOS_Implementation/COCO2014/train2014/\"\n",
        "# val_imgs_path = \"/home/samer/Desktop/Beedoo/FCOS/FCOS_Implementation/COCO2014/val2014/\"\n",
        "# test_imgs_path = \"/home/samer/Desktop/Beedoo/FCOS/FCOS_Implementation/COCO2014/test2014/\"\n",
        "# annotations = \"/home/samer/Desktop/Beedoo/FCOS/FCOS_Implementation/COCO2014/annotations/\""
      ]
    },
    {
      "cell_type": "code",
      "execution_count": 4,
      "metadata": {
        "id": "NHgfVtDRFKs7"
      },
      "outputs": [],
      "source": [
        "images_dict = dict()\n",
        "image_list = []\n",
        "counter = 0\n",
        "# load the images\n",
        "for file in sorted(os.listdir(train_imgs_path)):\n",
        "    if counter < 600:\n",
        "        image_path = os.path.join(train_imgs_path, file)\n",
        "        image = cv2.imread(image_path, cv2.COLOR_BGR2RGB)\n",
        "        image = cv2.resize(image, (800, 1024))\n",
        "        image = np.array(image)\n",
        "        image = image.astype('float32')\n",
        "        image /= 255\n",
        "        if len(image.shape) < 3:\n",
        "            continue\n",
        "        # plt.imshow(image)\n",
        "        # plt.show()\n",
        "        file_key = str(file).split('.')[0]\n",
        "        imageid = re.findall(\"[0-9]+\", file_key)\n",
        "        imageid = str(imageid[1]).lstrip(\"_0\")\n",
        "        images_dict[f'{imageid}'] = image           # create a dictionary of the image titles and themselves\n",
        "        image_list.append(image)\n",
        "        counter += 1\n",
        "    else:\n",
        "        break"
      ]
    },
    {
      "cell_type": "code",
      "execution_count": 5,
      "metadata": {
        "id": "IE3w-4tDFKs7"
      },
      "outputs": [],
      "source": [
        "def concat(list1, list2):\n",
        "    if type(list1[0]) == list and type(list2) == list:\n",
        "        alist = list1\n",
        "        alist.append(list2)\n",
        "    elif type(list2) == int:\n",
        "        alist = [list1]\n",
        "        alist.append(list2)\n",
        "    return alist\n",
        "\n",
        "# check if need to put all the boxes of a single image in a list instead of keeping them separate.\n",
        "# concat([1.08, 187.69, 611.59, 285.84],51)"
      ]
    },
    {
      "cell_type": "code",
      "execution_count": 6,
      "metadata": {
        "colab": {
          "base_uri": "https://localhost:8080/"
        },
        "id": "Y2rgYKZxFKs7",
        "outputId": "47b16443-44de-4d03-9056-071dd6d65f5f"
      },
      "outputs": [
        {
          "output_type": "stream",
          "name": "stdout",
          "text": [
            "{9: [[[1.08, 187.69, 611.59, 285.84], 51], [[311.73, 4.31, 319.28, 228.68], 51], [[249.6, 229.27, 316.24, 245.08], 56], [[0.0, 13.51, 434.48, 375.12], 51], [[376.2, 40.36, 75.55, 46.53], 55], [[465.78, 38.97, 58.07, 46.67], 55], [[385.7, 73.66, 84.02, 70.51], 55], [[364.05, 2.49, 94.76, 71.07], 55]], 25: [[[385.53, 60.03, 214.97, 297.16], 25], [[53.01, 356.49, 132.03, 55.19], 25]], 30: [[[204.86, 31.02, 254.88, 324.12], 64], [[237.56, 155.81, 166.4, 195.25], 86]], 34: [[[0.96, 20.06, 441.23, 379.15], 24]], 36: [[[0.0, 50.12, 457.68, 430.35], 28], [[167.58, 162.89, 310.61, 465.19], 1]], 49: [[[162.57, 226.56, 130.41, 184.43], 19], [[81.7, 244.94, 83.71, 158.2], 19], [[203.39, 260.43, 65.69, 73.04], 1], [[118.43, 261.32, 56.91, 62.93], 1], [[119.34, 334.21, 11.94, 33.57], 1], [[201.77, 426.19, 70.84, 47.23], 64], [[284.34, 333.4, 10.88, 27.43], 1], [[191.0, 334.37, 7.16, 23.41], 1], [[346.76, 333.4, 14.8, 9.22], 1]], 61: [[[261.2, 205.92, 48.08, 57.24], 1], [[393.39, 210.34, 32.53, 39.74], 1], [[370.11, 248.9, 83.09, 47.64], 22], [[223.25, 250.1, 141.92, 77.71], 22], [[261.54, 196.57, 34.21, 54.18], 1]], 64: [[[52.36, 387.77, 176.36, 157.62], 3], [[52.64, 353.78, 124.58, 59.47], 8], [[115.84, 226.59, 37.02, 75.17], 13], [[112.04, 42.19, 154.3, 152.31], 85]], 71: [[[467.82, 216.93, 27.75, 14.15], 3], [[522.69, 223.4, 24.35, 12.0], 3], [[436.9, 217.83, 23.32, 8.62], 3], [[586.36, 231.31, 27.15, 14.31], 3], [[47.87, 185.72, 483.43, 119.66], 7], [[497.01, 223.95, 23.56, 11.14], 3], [[601.86, 216.64, 16.72, 5.42], 3], [[333.48, 192.6, 23.89, 10.18], 8], [[362.36, 197.28, 24.31, 7.07], 8], [[617.67, 237.43, 22.33, 12.8], 3], [[479.15, 220.0, 23.93, 12.65], 3], [[387.49, 200.79, 16.01, 4.29], 3], [[366.69, 196.95, 19.7, 7.81], 3], [[348.79, 198.22, 19.35, 5.11], 3], [[499.88, 219.18, 19.18, 6.21], 3], [[460.42, 217.18, 18.8, 11.6], 3]], 72: [[[136.63, 129.44, 289.08, 499.05], 25], [[50.45, 72.07, 233.51, 567.93], 25]], 77: [[[216.04, 56.31, 103.45, 118.93], 1], [[320.73, 53.73, 94.63, 97.28], 1], [[41.55, 320.34, 50.54, 24.24], 41], [[236.63, 140.69, 27.33, 28.53], 41], [[24.83, 167.53, 97.0, 165.41], 1], [[286.32, 101.29, 24.7, 41.72], 1], [[355.43, 141.19, 24.06, 15.04], 41], [[266.35, 58.18, 22.93, 82.52], 1]], 78: [[[359.8, 2.07, 214.13, 235.91], 85]], 81: [[[38.55, 40.48, 584.01, 318.02], 5]], 86: [[[152.11, 183.1, 129.15, 375.97], 1], [[130.14, 346.52, 294.26, 288.64], 4], [[265.1, 294.59, 134.6, 110.18], 31]], 89: [[[502.6, 105.47, 25.83, 132.38], 49], [[476.62, 127.49, 19.72, 106.11], 49], [[528.8, 99.3, 26.47, 137.89], 49], [[555.67, 100.9, 20.87, 138.98], 49], [[573.73, 96.6, 26.97, 142.79], 49], [[138.38, 202.7, 336.21, 270.27], 79], [[0.0, 43.67, 118.2, 144.91], 78], [[476.68, 333.95, 90.45, 30.36], 84], [[497.16, 365.19, 114.05, 33.7], 84], [[513.13, 402.71, 126.87, 50.12], 84]], 92: [[[418.65, 118.6, 164.68, 308.4], 48], [[125.7, 0.96, 376.14, 292.66], 61]], 94: [[[356.23, 275.22, 42.87, 38.46], 3], [[542.0, 263.0, 82.6, 93.51], 8]], 109: [[[539.72, 295.45, 22.91, 18.39], 18], [[512.89, 271.42, 21.24, 32.73], 1], [[585.88, 268.35, 18.19, 22.82], 1], [[548.02, 249.59, 4.55, 8.11], 1], [[376.6, 261.49, 34.46, 23.75], 15], [[448.37, 281.77, 40.29, 23.19], 15], [[74.56, 197.85, 6.29, 15.28], 1], [[604.26, 271.45, 9.19, 11.3], 1]], 110: [[[138.38, 133.51, 99.46, 80.0], 62], [[243.96, 137.61, 83.83, 118.7], 62], [[294.94, 367.89, 189.69, 112.11], 48], [[274.18, 360.36, 16.85, 119.64], 49], [[136.66, 391.91, 337.69, 82.44], 59], [[119.19, 75.3, 144.11, 75.85], 67], [[208.18, 0.0, 431.82, 474.61], 1], [[1.08, 128.36, 251.32, 281.53], 1], [[248.09, 1.08, 128.36, 136.99], 1], [[196.95, 0.0, 68.05, 94.32], 1], [[141.2, 2.18, 80.89, 85.82], 1], [[0.0, 0.0, 130.28, 174.43], 1], [[131.15, 0.0, 31.07, 55.5], 1], [[406.77, 1.22, 34.72, 84.11], 1], [[184.03, 79.35, 19.21, 18.23], 47], [[0.28, 134.14, 44.86, 169.37], 62], [[413.54, 78.74, 22.89, 12.79], 62], [[584.66, 100.54, 55.34, 35.65], 67], [[263.06, 0.74, 14.19, 28.66], 1], [[335.72, 0.0, 79.5, 93.43], 1], [[3.15, 377.36, 636.57, 102.64], 67], [[163.16, 77.92, 18.7, 23.38], 47], [[209.78, 80.59, 19.98, 15.74], 47], [[228.12, 75.91, 16.53, 23.38], 47]], 113: [[[92.04, 381.22, 156.77, 63.28], 62], [[11.03, 577.54, 71.81, 61.94], 62], [[4.33, 31.42, 151.7, 455.08], 1], [[70.27, 458.25, 51.6, 61.13], 47], [[347.22, 159.86, 21.68, 18.76], 47], [[253.79, 363.24, 47.21, 87.04], 49], [[142.38, 424.27, 260.32, 149.57], 61], [[341.39, 100.49, 74.61, 328.25], 1], [[19.38, 392.94, 396.62, 247.06], 67], [[148.13, 44.58, 195.6, 386.88], 1], [[282.56, 95.35, 25.51, 26.77], 47], [[346.5, 67.93, 23.44, 22.05], 47], [[343.43, 98.09, 24.1, 25.0], 47], [[379.91, 96.72, 17.64, 23.3], 47], [[195.73, 140.4, 20.06, 21.64], 47], [[176.16, 137.14, 23.57, 24.81], 47], [[174.85, 106.92, 19.61, 25.63], 47], [[140.57, 138.28, 18.76, 22.27], 47]], 127: [[[213.55, 49.56, 64.69, 70.6], 64], [[107.52, 147.13, 531.93, 333.87], 67], [[381.97, 221.21, 185.2, 124.75], 47], [[300.92, 286.33, 104.22, 158.91], 49], [[346.67, 276.28, 84.91, 82.32], 50], [[179.15, 263.57, 125.95, 141.15], 61], [[257.22, 194.11, 129.07, 92.52], 84], [[0.0, 148.96, 64.35, 81.95], 15], [[157.91, 86.33, 43.98, 16.44], 15], [[294.0, 0.0, 104.85, 104.67], 28], [[131.36, 3.19, 32.72, 55.73], 28], [[111.94, 123.64, 469.96, 163.3], 31], [[444.17, 8.67, 22.75, 35.75], 1], [[106.04, 99.04, 65.0, 49.45], 15], [[196.88, 147.35, 52.75, 36.27], 15], [[265.55, 95.15, 214.26, 23.41], 67], [[104.35, 1.49, 28.49, 44.54], 28]], 138: [[[16.66, 102.67, 123.06, 246.12], 82], [[315.62, 19.6, 68.5, 68.5], 85], [[157.46, 184.11, 45.59, 19.53], 51], [[260.1, 175.12, 119.75, 357.96], 79], [[496.77, 203.18, 129.13, 53.52], 81], [[560.65, 45.27, 44.0, 58.79], 64], [[218.38, 54.99, 33.64, 47.16], 86]], 142: [[[256.71, 88.94, 160.07, 253.87], 44], [[0.0, 226.36, 480.0, 226.22], 67], [[106.19, 374.53, 272.64, 192.29], 52], [[74.58, 376.34, 363.56, 263.66], 54]], 144: [[[232.99, 121.71, 366.74, 358.29], 25], [[193.33, 131.89, 300.66, 348.11], 25], [[48.54, 79.82, 393.71, 400.18], 25]], 149: [[[388.03, 324.65, 9.61, 13.33], 1], [[339.42, 316.81, 6.88, 13.08], 1], [[333.22, 315.73, 6.3, 13.95], 1], [[401.74, 325.7, 14.7, 12.96], 1], [[434.24, 192.44, 18.36, 15.0], 38], [[280.61, 252.26, 9.7, 6.37], 38], [[435.83, 82.73, 10.38, 12.5], 38], [[293.24, 208.28, 22.45, 10.71], 38], [[559.57, 317.53, 7.1, 18.51], 1], [[538.45, 315.99, 5.09, 14.72], 1], [[278.56, 311.71, 9.7, 5.33], 3], [[311.27, 316.86, 10.49, 4.73], 3], [[295.02, 316.51, 8.6, 4.14], 3], [[256.35, 321.38, 19.45, 7.21], 3], [[62.67, 340.52, 41.67, 13.39], 38], [[384.71, 274.6, 37.66, 15.92], 38], [[274.32, 326.61, 8.02, 12.82], 1], [[544.7, 317.64, 4.45, 16.29], 1], [[586.44, 321.28, 4.52, 9.88], 1], [[249.87, 316.26, 5.32, 23.03], 1], [[233.57, 315.3, 7.83, 24.28], 1], [[220.06, 313.45, 7.64, 27.21], 1], [[104, 310, 459, 34], 1]], 151: [[[434.61, 61.51, 30.56, 53.28], 1], [[210.76, 4.6, 269.24, 635.4], 7], [[212.61, 329.17, 38.12, 35.39], 13]], 154: [[[11.98, 315.59, 349.08, 324.41], 24], [[40.46, 192.98, 273.62, 139.17], 24], [[239.46, 93.63, 99.19, 63.73], 24]], 165: [[[160.71, 173.45, 90.68, 217.18], 32], [[248.63, 108.14, 383.17, 427.86], 1], [[6.02, 24.09, 354.12, 504.68], 1], [[68.81, 126.15, 299.39, 286.11], 87]], 194: [[[504.96, 415.15, 101.41, 64.85], 49], [[1.08, 40.99, 638.92, 432.54], 59]], 201: [[[333.74, 31.74, 154.85, 362.6], 36], [[284.38, 17.33, 146.49, 361.93], 36], [[266.08, 48.8, 95.1, 294.44], 36], [[242.61, 53.19, 86.27, 292.99], 36], [[211.54, 46.95, 82.75, 286.87], 36], [[615.25, 195.43, 12.48, 16.57], 1], [[585.9, 194.45, 11.74, 17.92], 1], [[268.4, 63.33, 94.26, 295.21], 36]], 247: [[[55.62, 186.01, 85.71, 35.56], 3], [[514.32, 179.77, 35.0, 18.21], 3], [[478.51, 175.8, 30.92, 22.71], 3], [[2.86, 0.48, 637.14, 418.27], 5], [[544.07, 172.31, 8.12, 6.17], 3], [[533.66, 171.51, 7.45, 6.6], 3], [[420.2, 85.51, 219.8, 56.09], 5], [[503.75, 169.88, 15.58, 7.7], 3]], 260: [[[2.26, 93.77, 66.14, 157.86], 6], [[261.0, 139.88, 51.75, 169.5], 1], [[17.29, 142.16, 23.67, 27.85], 1], [[238.43, 175.25, 33.15, 15.73], 3], [[332.28, 232.16, 43.45, 61.72], 33], [[373.94, 222.99, 28.35, 69.72], 33], [[334.72, 205.57, 60.78, 39.96], 33]], 263: [[[156.41, 169.33, 434.59, 463.5], 22], [[1.66, 13.3, 387.33, 591.79], 22]], 307: [[[406.3, 197.82, 171.64, 167.76], 18], [[384.0, 49.38, 48.22, 16.57], 3], [[351.64, 366.74, 70.11, 106.79], 34]], 308: [[[134.68, 28.65, 133.72, 395.44], 1], [[0.0, 47.31, 185.08, 378.69], 1], [[45.74, 15.34, 162.97, 265.89], 1], [[111.18, 78.76, 34.51, 87.8], 1], [[381.09, 23.47, 175.8, 395.97], 1], [[364.5, 223.93, 24.45, 59.78], 46], [[146.34, 156.05, 49.66, 99.31], 46], [[235.4, 149.48, 24.85, 58.58], 46], [[0.0, 236.45, 119.66, 184.76], 1], [[0.03, 170.46, 67.55, 127.18], 46], [[345.8, 73.1, 49.89, 176.28], 1], [[436.24, 237.87, 13.09, 13.09], 85], [[276.24, 63.14, 87.61, 74.56], 28]], 309: [[[153.18, 213.25, 134.57, 213.02], 88], [[273.71, 214.38, 117.3, 141.58], 88], [[420.15, 71.45, 92.83, 123.65], 18], [[73.1, 235.33, 121.42, 258.02], 88]], 312: [[[2.88, 185.19, 226.45, 207.27], 22], [[225.83, 193.98, 208.85, 180.94], 22], [[322.22, 294.57, 80.91, 81.17], 22], [[491.41, 176.27, 148.59, 199.41], 22], [[469.94, 230.67, 44.01, 141.73], 22], [[419.34, 249.44, 147.72, 122.65], 22]], 315: [[[13.47, 95.22, 212.11, 132.69], 28], [[142.01, 116.77, 153.53, 89.24], 28], [[202.91, 111.75, 128.4, 71.11], 28], [[280.63, 131.3, 67.81, 41.59], 28], [[281.04, 114.62, 89.15, 20.57], 28], [[375.26, 134.42, 49.75, 24.72], 28], [[423.91, 42.74, 38.22, 89.87], 28], [[0.0, 96.66, 159.53, 260.79], 28], [[0.0, 137.22, 78.68, 110.34], 28], [[130.5, 117.07, 123.78, 103.63], 28], [[227.26, 130.18, 89.26, 67.74], 28], [[338.69, 139.27, 61.84, 192.63], 1], [[493.48, 148.66, 49.09, 184.71], 1], [[124.49, 219.59, 85.29, 173.1], 1], [[532.23, 186.95, 46.32, 56.08], 1], [[542.18, 159.83, 24.22, 42.61], 1], [[575.41, 195.26, 50.19, 47.5], 1], [[546.97, 139.88, 13.89, 34.13], 1], [[325.78, 130.7, 84.0, 39.87], 28], [[93.06, 388.46, 59.77, 33.24], 31], [[203.42, 275.39, 291.71, 130.5], 62], [[216.27, 220.78, 51.22, 23.33], 1], [[300.73, 182.05, 26.43, 33.29], 1], [[587.28, 155.77, 5.79, 12.95], 1], [[183.79, 369.11, 118.99, 57.89], 1], [[325.41, 172.63, 15.15, 36.46], 1], [[208.08, 249.08, 84.87, 46.41], 62], [[16.63, 249.3, 139.45, 109.33], 62], [[3.33, 401.49, 100.92, 19.96], 62], [[222.0, 265.39, 72.91, 29.84], 62], [[0.0, 323.2, 63.34, 84.4], 62], [[222.21, 245.04, 60.31, 19.54], 62], [[233.05, 290.74, 76.67, 19.17], 62], [[211.05, 223.8, 63.22, 25.1], 62], [[623.03, 162.55, 7.52, 26.0], 1], [[464.18, 106.26, 66.59, 32.38], 28], [[102.67, 358.57, 41.39, 11.77], 31], [[116.31, 327.06, 63.73, 62.17], 31], [[45, 169, 527, 121], 1], [[384, 109, 104, 63], 28]], 321: [[[363.67, 199.72, 248.47, 240.56], 58], [[370.45, 62.12, 234.91, 242.82], 58], [[78.55, 43.64, 215.68, 379.01], 54]], 322: [[[71.66, 110.48, 206.3, 275.79], 1], [[282.11, 205.98, 43.24, 12.75], 34]], 326: [[[152.57, 90.68, 364.67, 335.77], 1], [[231.69, 34.87, 246.9, 264.11], 46]], 332: [[[88.45, 0.0, 173.66, 71.94], 47], [[587.38, 0.0, 52.62, 149.4], 47], [[3.24, 37.75, 636.76, 436.86], 51], [[168.28, 80.19, 310.59, 250.73], 57], [[393.61, 0.04, 120.54, 52.71], 47], [[0.0, 325.4, 24.94, 145.87], 48], [[59.79, 262.95, 108.04, 115.35], 57]], 349: [[[0.0, 130.52, 539.33, 257.79], 7], [[396.4, 280.27, 62.88, 78.37], 64], [[454.92, 270.7, 50.59, 62.63], 64], [[498.33, 284.91, 28.71, 39.92], 64]], 368: [[[207.19, 238.22, 47.44, 49.71], 37], [[165.31, 107.62, 229.62, 272.32], 1], [[157.8, 81.3, 53.74, 109.53], 1], [[64.14, 198.37, 57.02, 35.63], 1], [[135.57, 148.47, 39.54, 82.45], 1], [[270.71, 71.75, 37.06, 82.05], 1], [[424.64, 138.63, 44.11, 98.71], 1], [[285.15, 122.08, 76.58, 238.23], 1], [[362.62, 137.3, 37.18, 98.08], 1], [[80.88, 136.65, 29.04, 66.26], 1], [[65.03, 138.05, 18.84, 63.76], 1], [[214.14, 120.26, 19.92, 29.66], 1], [[0.0, 137.82, 18.76, 92.95], 1]], 370: [[[90.81, 24.5, 389.19, 615.5], 1], [[242.45, 257.05, 237.55, 243.95], 56]], 382: [[[507.71, 363.06, 53.47, 81.28], 1], [[492.71, 432.71, 77.73, 25.06], 35], [[517.71, 365.61, 17.19, 23.05], 27]], 384: [[[0.0, 419.7, 182.5, 218.27], 63], [[205.87, 275.86, 28.26, 28.07], 85], [[154.66, 542.4, 42.15, 17.57], 84], [[107.98, 536.75, 41.03, 24.11], 84], [[100.98, 464.68, 12.04, 9.63], 74], [[365.03, 496.98, 21.25, 7.12], 75], [[116.04, 522.14, 45.02, 21.1], 84], [[155.38, 530.47, 31.21, 6.63], 75], [[148.13, 544.2, 10.38, 5.61], 75], [[160.39, 509.79, 32.24, 16.65], 84], [[123.39, 468.86, 39.07, 19.32], 73]], 389: [[[306.65, 300.73, 65.43, 179.27], 32], [[0.0, 256.72, 141.3, 222.2], 1], [[467.34, 292.19, 97.71, 187.81], 1], [[91.3, 249.63, 91.7, 170.62], 1], [[566.94, 270.67, 73.06, 124.88], 1], [[41.34, 172.71, 14.07, 44.32], 1], [[170.84, 285.24, 47.99, 47.35], 1], [[429.7, 257.19, 43.33, 48.18], 1], [[394.46, 242.34, 32.56, 26.68], 1], [[562.5, 371.81, 77.24, 108.03], 1], [[385.9, 266.45, 77.13, 213.55], 27], [[140.99, 84.05, 368.07, 389.6], 1], [[517.46, 269.94, 8.41, 9.63], 1], [[516.91, 269.97, 73.8, 145.98], 1]], 394: [[[0.0, 16.17, 625.81, 572.39], 18], [[235.35, 185.45, 355.47, 291.99], 34]], 404: [[[54.27, 359.7, 314.19, 86.46], 9], [[192.14, 359.96, 199.16, 45.96], 9], [[252.29, 354.08, 157.08, 29.61], 9], [[263.29, 357.89, 85.77, 16.28], 9], [[272.71, 355.56, 24.7, 11.02], 9]], 419: [[[124.84, 130.17, 45.2, 152.83], 1], [[140.8, 118.93, 38.1, 16.42], 43], [[124.23, 91.39, 6.54, 7.19], 37], [[458.52, 228.83, 131.01, 176.11], 1], [[434.22, 202.49, 14.6, 14.37], 3], [[529.32, 203.3, 16.37, 10.99], 3], [[329.94, 202.72, 33.35, 11.72], 3]], 431: [[[359.09, 194.16, 12.18, 11.64], 37], [[153.75, 67.12, 157.29, 252.47], 1], [[296.79, 158.95, 81.27, 62.09], 43]], 436: [[[7.21, 2.88, 419.79, 625.59], 1], [[219.72, 237.32, 103.43, 72.53], 60]], 438: [[[189.42, 272.23, 147.44, 104.4], 60], [[37.63, 226.44, 120.66, 77.47], 60], [[168.87, 212.11, 146.94, 108.13], 60], [[178.85, 142.3, 140.07, 105.87], 60], [[58.95, 160.37, 121.08, 94.38], 60], [[50.56, 101.95, 125.6, 84.96], 60], [[480.0, 197.39, 120.81, 115.42], 60], [[472.07, 101.98, 122.08, 101.88], 60], [[36.58, 322.45, 154.77, 119.71], 60], [[478.22, 310.75, 133.19, 144.44], 60], [[321.09, 332.28, 170.58, 123.98], 60], [[168.31, 362.81, 165.82, 91.01], 60], [[310.1, 151.94, 84.9, 189.3], 60], [[39, 48, 403, 303], 60]], 443: [[[198.62, 53.28, 372.41, 380.69], 17], [[117.57, 1.08, 519.91, 472.45], 1], [[488.63, 2.16, 151.37, 303.1], 1], [[500.59, 194.87, 139.41, 152.58], 75], [[1.08, 1.9, 568.85, 470.24], 63], [[2.37, 152.69, 143.41, 311.71], 1]], 446: [[[75.71, 124.17, 282.4, 515.83], 1], [[334.85, 367.08, 44.49, 18.59], 75], [[259.68, 402.11, 10.13, 70.21], 84], [[70.35, 170.57, 7.22, 15.71], 84], [[31.86, 164.28, 9.26, 28.88], 84], [[26.98, 164.21, 8.4, 29.31], 84], [[37.33, 164.59, 28.41, 30.2], 84], [[12.92, 98.91, 94.26, 45.95], 84], [[82.61, 63.58, 13.81, 28.83], 84], [[1.66, 495.94, 87.87, 134.31], 63], [[415.25, 276.54, 58.42, 84.78], 64], [[374.41, 221.09, 62.51, 98.7], 64], [[426.64, 177.7, 53.36, 103.87], 64]], 450: [[[461.7, 3.23, 97.94, 69.95], 46], [[562.02, 0.0, 77.98, 192.97], 47], [[0.0, 13.74, 566.41, 458.1], 59], [[0.0, 1.08, 640.0, 478.92], 67]], 471: [[[120.9, 112.27, 459.63, 212.06], 6], [[211.03, 155.14, 16.21, 44.98], 1]], 490: [[[46.0, 193.0, 90.0, 143.0], 18], [[304.79, 136.82, 91.21, 251.39], 41]], 491: [[[134.44, 11.27, 261.19, 297.6], 88], [[287.79, 0.77, 199.57, 155.45], 88], [[0.0, 4.88, 91.87, 181.29], 88], [[79.47, 0.91, 213.26, 120.01], 88]], 510: [[[254.05, 130.27, 151.36, 298.38], 1], [[42.07, 226.52, 567.37, 201.7], 15], [[15.1, 9.71, 36.68, 57.17], 10]], 514: [[[37.39, 225.89, 322.61, 398.39], 65]], 529: [[[17.66, 238.87, 362.2, 348.54], 4], [[108.5, 76.36, 229.35, 410.64], 1], [[25.53, 97.9, 272.3, 196.11], 1]], 531: [[[48.86, 268.8, 25.35, 16.83], 2], [[262.69, 248.31, 39.41, 89.19], 1], [[18.59, 271.12, 25.19, 15.57], 2], [[82.87, 256.14, 37.67, 65.65], 1], [[251.65, 253.24, 12.26, 26.3], 1], [[270.75, 294.6, 1.86, 2.76], 37], [[216.17, 255.01, 10.63, 23.81], 1], [[446.85, 246.33, 12.84, 35.42], 1], [[504.06, 244.48, 12.71, 31.9], 1], [[294.45, 290.38, 14.75, 31.78], 43], [[389.5, 256.37, 12.09, 20.86], 1], [[6.46, 258.44, 22.45, 35.81], 1], [[28.68, 254.55, 68.03, 35.68], 43], [[253.06, 269.04, 4.33, 4.23], 43], [[628.66, 266.12, 10.49, 9.56], 2]], 532: [[[86.29, 127.1, 461.67, 262.11], 6], [[269.09, 234.57, 44.52, 156.26], 1], [[124.32, 253.48, 45.66, 114.02], 1], [[221.34, 212.83, 17.99, 18.39], 1], [[154.41, 216.47, 12.27, 19.66], 1], [[0.34, 163.5, 96.79, 190.01], 6], [[153.13, 268.63, 21.1, 35.54], 31], [[120.39, 316.92, 15.1, 25.36], 31]], 540: [[[172.32, 366.29, 9.91, 9.55], 3], [[611.09, 309.65, 9.6, 10.91], 3], [[162.4, 394.28, 15.48, 10.11], 3], [[218.02, 329.76, 10.32, 9.66], 3], [[156.38, 187.8, 300.28, 82.5], 5], [[87.57, 359.97, 21.84, 24.85], 8], [[253.67, 146.63, 1.81, 1.93], 10], [[71.74, 404.25, 13.44, 9.5], 3], [[94.32, 391.49, 12.64, 10.88], 3], [[131.93, 372.34, 8.2, 9.19], 3], [[121.6, 364.68, 10.02, 9.5], 3], [[194.58, 368.13, 8.52, 9.86], 3], [[311.55, 199.51, 4.71, 6.15], 3], [[52.36, 191.96, 7.4, 6.06], 3], [[218.07, 348.96, 11.32, 12.79], 3], [[416.87, 203.87, 23.42, 10.33], 6], [[329.48, 192.46, 11.1, 13.63], 8], [[291.44, 182.33, 5.67, 4.43], 3], [[452.83, 385.58, 13.42, 19.85], 6], [[93.44, 392.25, 12.06, 10.55], 8], [[0, 93, 397, 110], 3]], 542: [[[3.26, 4.35, 636.74, 320.85], 5], [[222.66, 189.73, 68.99, 186.08], 1], [[149.14, 209.99, 48.37, 165.15], 1], [[452.46, 195.78, 40.24, 159.88], 1], [[356.16, 211.39, 47.34, 133.82], 1], [[317.69, 211.33, 40.2, 132.65], 1], [[296.02, 206.37, 33.45, 142.66], 1], [[185.31, 212.23, 44.1, 135.79], 1], [[454.74, 130.38, 43.07, 94.46], 1], [[267.72, 118.01, 67.39, 76.38], 1], [[278.49, 214.25, 30.75, 135.87], 1], [[180.36, 277.73, 17.77, 28.23], 31], [[189.92, 265.6, 18.25, 26.29], 31], [[466.93, 224.52, 1.23, 10.14], 32], [[483.33, 262.54, 20.2, 29.96], 31], [[441.12, 127.42, 19.7, 26.26], 1], [[281.51, 219.21, 14.66, 74.88], 1]], 560: [[[54.4, 126.18, 55.32, 62.34], 64], [[79.88, 194.84, 114.14, 65.62], 81], [[160.88, 188.12, 10.5, 5.84], 77], [[219.44, 152.46, 29.76, 4.38], 81], [[303.99, 143.98, 39.92, 36.56], 70]], 562: [[[139.72, 159.84, 78.61, 118.69], 90], [[188.57, 57.49, 78.4, 221.99], 90], [[63.28, 81.54, 83.42, 182.65], 90], [[63.0, 77.45, 309.26, 526.89], 47]], 572: [[[139.78, 58.22, 145.31, 541.77], 1], [[70.74, 254.8, 128.86, 346.27], 1], [[289.28, 378.91, 137.72, 221.78], 33]], 575: [[[4.39, 39.7, 353.72, 354.82], 17]], 581: [[[104.25, 151.32, 156.88, 259.11], 18]], 584: [[[5.76, 1.44, 337.73, 69.08], 50], [[312.14, 275.26, 62.82, 51.58], 56], [[199.7, 193.48, 193.95, 107.98], 56], [[354.83, 318.75, 91.22, 82.19], 57], [[447.14, 253.52, 81.5, 77.49], 57], [[465.09, 189.44, 74.18, 78.19], 57], [[512.16, 245.48, 67.05, 76.39], 57], [[232.12, 142.31, 37.71, 35.98], 57]]}\n"
          ]
        }
      ],
      "source": [
        "labels_list = []\n",
        "bounding_boxes = []\n",
        "counter = 0\n",
        "dont_care = [0,0,0,0,0,0,0,0,0]\n",
        "annotation_path = os.path.join(annotations, \"instances_train2014.json\")\n",
        "boxes = dict()\n",
        "counter = 0\n",
        "\n",
        "with open(annotation_path, \"r\") as f:\n",
        "    json_obj = json.load(f)\n",
        "    sorted_imageids = sorted(json_obj[\"annotations\"], key=itemgetter(\"image_id\"))\n",
        "# draw the bounding boxes\n",
        "    for line in sorted_imageids:      # iterate over the lines of the label file, where each line is a box with it's label\n",
        "        if counter < 500:\n",
        "            if not boxes.get(line[\"image_id\"]):\n",
        "                boxes[line[\"image_id\"]] = [concat(line[\"bbox\"], line[\"category_id\"])]\n",
        "            elif boxes.get(line[\"image_id\"]):\n",
        "                boxes[line[\"image_id\"]] = concat(boxes[line[\"image_id\"]], concat(line[\"bbox\"], line[\"category_id\"]))\n",
        "            counter += 1\n",
        "\n",
        "    print(boxes)\n",
        "\n"
      ]
    },
    {
      "cell_type": "code",
      "execution_count": 8,
      "metadata": {
        "id": "OEVPY-zuFKs7",
        "outputId": "9820b22e-4e36-4bb7-ae63-e7f40f00529e",
        "colab": {
          "base_uri": "https://localhost:8080/",
          "height": 391
        }
      },
      "outputs": [
        {
          "output_type": "error",
          "ename": "TypeError",
          "evalue": "Inputs to a layer should be tensors. Got '<bound method Kernel.raw_input of <google.colab._kernel.Kernel object at 0x7f95bbf07040>>' (of type <class 'method'>) as input for layer 'res_net_2'.",
          "traceback": [
            "\u001b[0;31m---------------------------------------------------------------------------\u001b[0m",
            "\u001b[0;31mTypeError\u001b[0m                                 Traceback (most recent call last)",
            "\u001b[0;32m<ipython-input-8-e09f9491580b>\u001b[0m in \u001b[0;36m<cell line: 13>\u001b[0;34m()\u001b[0m\n\u001b[1;32m     11\u001b[0m \u001b[0;34m\u001b[0m\u001b[0m\n\u001b[1;32m     12\u001b[0m \u001b[0minputs\u001b[0m \u001b[0;34m=\u001b[0m \u001b[0mtf\u001b[0m\u001b[0;34m.\u001b[0m\u001b[0mkeras\u001b[0m\u001b[0;34m.\u001b[0m\u001b[0mInput\u001b[0m\u001b[0;34m(\u001b[0m\u001b[0mshape\u001b[0m\u001b[0;34m=\u001b[0m\u001b[0;34m(\u001b[0m\u001b[0;36m1024\u001b[0m\u001b[0;34m,\u001b[0m\u001b[0;36m800\u001b[0m\u001b[0;34m,\u001b[0m\u001b[0;36m3\u001b[0m\u001b[0;34m)\u001b[0m\u001b[0;34m)\u001b[0m\u001b[0;34m\u001b[0m\u001b[0;34m\u001b[0m\u001b[0m\n\u001b[0;32m---> 13\u001b[0;31m x = tfm.vision.backbones.ResNet(\n\u001b[0m\u001b[1;32m     14\u001b[0m             \u001b[0mmodel_id\u001b[0m \u001b[0;34m=\u001b[0m \u001b[0;36m50\u001b[0m\u001b[0;34m,\u001b[0m\u001b[0;34m\u001b[0m\u001b[0;34m\u001b[0m\u001b[0m\n\u001b[1;32m     15\u001b[0m             \u001b[0mdepth_multiplier\u001b[0m \u001b[0;34m=\u001b[0m \u001b[0;36m1.0\u001b[0m\u001b[0;34m,\u001b[0m\u001b[0;34m\u001b[0m\u001b[0;34m\u001b[0m\u001b[0m\n",
            "\u001b[0;32m/usr/local/lib/python3.10/dist-packages/tf_keras/src/utils/traceback_utils.py\u001b[0m in \u001b[0;36merror_handler\u001b[0;34m(*args, **kwargs)\u001b[0m\n\u001b[1;32m     68\u001b[0m             \u001b[0;31m# To get the full stack trace, call:\u001b[0m\u001b[0;34m\u001b[0m\u001b[0;34m\u001b[0m\u001b[0m\n\u001b[1;32m     69\u001b[0m             \u001b[0;31m# `tf.debugging.disable_traceback_filtering()`\u001b[0m\u001b[0;34m\u001b[0m\u001b[0;34m\u001b[0m\u001b[0m\n\u001b[0;32m---> 70\u001b[0;31m             \u001b[0;32mraise\u001b[0m \u001b[0me\u001b[0m\u001b[0;34m.\u001b[0m\u001b[0mwith_traceback\u001b[0m\u001b[0;34m(\u001b[0m\u001b[0mfiltered_tb\u001b[0m\u001b[0;34m)\u001b[0m \u001b[0;32mfrom\u001b[0m \u001b[0;32mNone\u001b[0m\u001b[0;34m\u001b[0m\u001b[0;34m\u001b[0m\u001b[0m\n\u001b[0m\u001b[1;32m     71\u001b[0m         \u001b[0;32mfinally\u001b[0m\u001b[0;34m:\u001b[0m\u001b[0;34m\u001b[0m\u001b[0;34m\u001b[0m\u001b[0m\n\u001b[1;32m     72\u001b[0m             \u001b[0;32mdel\u001b[0m \u001b[0mfiltered_tb\u001b[0m\u001b[0;34m\u001b[0m\u001b[0;34m\u001b[0m\u001b[0m\n",
            "\u001b[0;32m/usr/local/lib/python3.10/dist-packages/tf_keras/src/engine/input_spec.py\u001b[0m in \u001b[0;36massert_input_compatibility\u001b[0;34m(input_spec, inputs, layer_name)\u001b[0m\n\u001b[1;32m    211\u001b[0m         \u001b[0;31m# which does not have a `shape` attribute.\u001b[0m\u001b[0;34m\u001b[0m\u001b[0;34m\u001b[0m\u001b[0m\n\u001b[1;32m    212\u001b[0m         \u001b[0;32mif\u001b[0m \u001b[0;32mnot\u001b[0m \u001b[0mhasattr\u001b[0m\u001b[0;34m(\u001b[0m\u001b[0mx\u001b[0m\u001b[0;34m,\u001b[0m \u001b[0;34m\"shape\"\u001b[0m\u001b[0;34m)\u001b[0m\u001b[0;34m:\u001b[0m\u001b[0;34m\u001b[0m\u001b[0;34m\u001b[0m\u001b[0m\n\u001b[0;32m--> 213\u001b[0;31m             raise TypeError(\n\u001b[0m\u001b[1;32m    214\u001b[0m                 \u001b[0;34mf\"Inputs to a layer should be tensors. Got '{x}' \"\u001b[0m\u001b[0;34m\u001b[0m\u001b[0;34m\u001b[0m\u001b[0m\n\u001b[1;32m    215\u001b[0m                 \u001b[0;34mf\"(of type {type(x)}) as input for layer '{layer_name}'.\"\u001b[0m\u001b[0;34m\u001b[0m\u001b[0;34m\u001b[0m\u001b[0m\n",
            "\u001b[0;31mTypeError\u001b[0m: Inputs to a layer should be tensors. Got '<bound method Kernel.raw_input of <google.colab._kernel.Kernel object at 0x7f95bbf07040>>' (of type <class 'method'>) as input for layer 'res_net_2'."
          ]
        }
      ],
      "source": [
        "# model backbone\n",
        "# FCOS uses ResNeXt not his one.\n",
        "\n",
        "resnet = tfm.vision.backbones.ResNet(\n",
        "            model_id = 50,\n",
        "            depth_multiplier = 1.0,\n",
        "            replace_stem_max_pool = False,\n",
        "            scale_stem = True,\n",
        "            activation = \"relu\",\n",
        "            bn_trainable = True)\n",
        "\n",
        "exp_config = tfm.core.exp_factory.get_exp_config('resnet_imagenet')\n",
        "exp_config.task.model.num_classes = 8\n",
        "exp_config.task.model.input_size = list(1024,800,3)\n",
        "exp_config.task.model.backbone.resnet.model_id = 50\n",
        "batch_size = 16\n"
      ]
    },
    {
      "cell_type": "code",
      "execution_count": null,
      "metadata": {
        "id": "bwCo11eYFKs8"
      },
      "outputs": [],
      "source": [
        "tfm.vision.decoders.FPN(\n",
        "    input_specs: Mapping[str, tf.TensorShape],\n",
        "    min_level = 3,\n",
        "    max_level = 7,\n",
        "    num_filters = 256,\n",
        "    fusion_type = 'sum',\n",
        "    use_separable_conv = False,\n",
        "    use_keras_layer = False,\n",
        "    activation = 'relu',\n",
        "    use_sync_bn = False,\n",
        "    norm_momentum = 0.99,\n",
        "    norm_epsilon = 0.001,\n",
        "    kernel_initializer = 'VarianceScaling',\n",
        "    kernel_regularizer = None,\n",
        "    bias_regularizer = None,\n",
        ")"
      ]
    },
    {
      "cell_type": "code",
      "execution_count": null,
      "metadata": {
        "id": "o_UTEuXnWX9w"
      },
      "outputs": [],
      "source": [
        "# loss function\n",
        "\n",
        "focal = tf.keras.losses.CategoricalFocalCrossentropy(\n",
        "    alpha = 0.25,\n",
        "    gamma = 2,\n",
        ")\n"
      ]
    },
    {
      "cell_type": "code",
      "execution_count": 10,
      "metadata": {
        "id": "TSweBa5IFKs8",
        "outputId": "104088ef-4760-44e2-e934-1a27ad681c1a",
        "colab": {
          "base_uri": "https://localhost:8080/",
          "height": 211
        }
      },
      "outputs": [
        {
          "output_type": "error",
          "ename": "NameError",
          "evalue": "name 'model' is not defined",
          "traceback": [
            "\u001b[0;31m---------------------------------------------------------------------------\u001b[0m",
            "\u001b[0;31mNameError\u001b[0m                                 Traceback (most recent call last)",
            "\u001b[0;32m<ipython-input-10-b2a8de8df3f5>\u001b[0m in \u001b[0;36m<cell line: 1>\u001b[0;34m()\u001b[0m\n\u001b[0;32m----> 1\u001b[0;31m model.compile(optimizer = tf.keras.optimizers.SGD(learning_rate = 0.01,\n\u001b[0m\u001b[1;32m      2\u001b[0m               \u001b[0mweight_decay\u001b[0m \u001b[0;34m=\u001b[0m \u001b[0;36m0.0001\u001b[0m\u001b[0;34m,\u001b[0m\u001b[0;34m\u001b[0m\u001b[0;34m\u001b[0m\u001b[0m\n\u001b[1;32m      3\u001b[0m               momentum = 0.9),\n\u001b[1;32m      4\u001b[0m               \u001b[0mloss\u001b[0m \u001b[0;34m=\u001b[0m \u001b[0mtf\u001b[0m\u001b[0;34m.\u001b[0m\u001b[0mkeras\u001b[0m\u001b[0;34m.\u001b[0m\u001b[0mloss\u001b[0m\u001b[0;34m(\u001b[0m\u001b[0mIOULoss\u001b[0m\u001b[0;34m)\u001b[0m\u001b[0;34m\u001b[0m\u001b[0;34m\u001b[0m\u001b[0m\n\u001b[1;32m      5\u001b[0m \u001b[0;34m\u001b[0m\u001b[0m\n",
            "\u001b[0;31mNameError\u001b[0m: name 'model' is not defined"
          ]
        }
      ],
      "source": [
        "model.compile(optimizer = tf.keras.optimizers.SGD(learning_rate = 0.01,\n",
        "              weight_decay = 0.0001,\n",
        "              momentum = 0.9),\n",
        "              loss = tf.keras.loss(IOULoss+focal)\n",
        "\n",
        "              )"
      ]
    },
    {
      "cell_type": "code",
      "execution_count": null,
      "metadata": {
        "id": "hpmu13_lUi3L"
      },
      "outputs": [],
      "source": [
        "\n",
        "def schedule(epoch, lr):\n",
        "  if epoch == 60000 or epoch == 80000:\n",
        "    lr = lr / 10\n",
        "    return lr\n",
        "\n",
        "sched = tf.keras.callbacks.LearningRateSchedualer(\n",
        "    schedule\n",
        ")"
      ]
    },
    {
      "cell_type": "code",
      "execution_count": null,
      "metadata": {
        "id": "JvqXwlpkS8Fa"
      },
      "outputs": [],
      "source": [
        "model.fit(epochs = 90000,\n",
        "          batch_size = 16,\n",
        "          callbacks = [sched],\n",
        "\n",
        "          )"
      ]
    }
  ],
  "metadata": {
    "colab": {
      "provenance": [],
      "include_colab_link": true
    },
    "kernelspec": {
      "display_name": "tensorflow",
      "language": "python",
      "name": "python3"
    },
    "language_info": {
      "codemirror_mode": {
        "name": "ipython",
        "version": 3
      },
      "file_extension": ".py",
      "mimetype": "text/x-python",
      "name": "python",
      "nbconvert_exporter": "python",
      "pygments_lexer": "ipython3",
      "version": "3.9.19"
    }
  },
  "nbformat": 4,
  "nbformat_minor": 0
}